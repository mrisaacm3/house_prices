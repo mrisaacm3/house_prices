{
 "cells": [
  {
   "cell_type": "code",
   "execution_count": 1,
   "metadata": {},
   "outputs": [
    {
     "ename": "ModuleNotFoundError",
     "evalue": "No module named 'geopandas'",
     "output_type": "error",
     "traceback": [
      "\u001b[1;31m---------------------------------------------------------------------------\u001b[0m",
      "\u001b[1;31mModuleNotFoundError\u001b[0m                       Traceback (most recent call last)",
      "\u001b[1;32m<ipython-input-1-541bc3d608fc>\u001b[0m in \u001b[0;36m<module>\u001b[1;34m\u001b[0m\n\u001b[0;32m      2\u001b[0m \u001b[1;32mimport\u001b[0m \u001b[0mmatplotlib\u001b[0m\u001b[1;33m.\u001b[0m\u001b[0mpyplot\u001b[0m \u001b[1;32mas\u001b[0m \u001b[0mplt\u001b[0m\u001b[1;33m\u001b[0m\u001b[1;33m\u001b[0m\u001b[0m\n\u001b[0;32m      3\u001b[0m \u001b[1;32mimport\u001b[0m \u001b[0mseaborn\u001b[0m \u001b[1;32mas\u001b[0m \u001b[0msns\u001b[0m\u001b[1;33m\u001b[0m\u001b[1;33m\u001b[0m\u001b[0m\n\u001b[1;32m----> 4\u001b[1;33m \u001b[1;32mimport\u001b[0m \u001b[0mgeopandas\u001b[0m \u001b[1;32mas\u001b[0m \u001b[0mgpd\u001b[0m\u001b[1;33m\u001b[0m\u001b[1;33m\u001b[0m\u001b[0m\n\u001b[0m\u001b[0;32m      5\u001b[0m \u001b[1;32mimport\u001b[0m \u001b[0mfolium\u001b[0m\u001b[1;33m\u001b[0m\u001b[1;33m\u001b[0m\u001b[0m\n\u001b[0;32m      6\u001b[0m \u001b[1;32mfrom\u001b[0m \u001b[0mfolium\u001b[0m\u001b[1;33m.\u001b[0m\u001b[0mplugins\u001b[0m \u001b[1;32mimport\u001b[0m \u001b[0mMarkerCluster\u001b[0m\u001b[1;33m\u001b[0m\u001b[1;33m\u001b[0m\u001b[0m\n",
      "\u001b[1;31mModuleNotFoundError\u001b[0m: No module named 'geopandas'"
     ]
    }
   ],
   "source": [
    "import pandas as pd\n",
    "import matplotlib.pyplot as plt\n",
    "import seaborn as sns\n",
    "import geopandas as gpd\n",
    "import folium\n",
    "from folium.plugins import MarkerCluster\n",
    "\n",
    "# Configurações gerais\n",
    "dataset_path = \"data/train.csv\"\n",
    "\n",
    "# Carregar os dados\n",
    "df = pd.read_csv(dataset_path)\n",
    "\n",
    "# Ajustar nomes de colunas\n",
    "df.columns = df.columns.str.strip().str.lower().str.replace(\" \", \"_\").str.replace(\"-\", \"_\")\n",
    "\n",
    "# Exibir primeiras linhas\n",
    "display(df.head())\n",
    "\n",
    "# Informações gerais do dataset\n",
    "df.info()\n",
    "\n",
    "# Estatísticas descritivas\n",
    "display(df.describe())\n",
    "\n",
    "# Distribuição de preços\n",
    "plt.figure(figsize=(10, 5))\n",
    "sns.histplot(df['preco'], bins=50, kde=True)\n",
    "plt.xlabel('Preço dos Imóveis')\n",
    "plt.ylabel('Frequência')\n",
    "plt.title('Distribuição de Preços dos Imóveis')\n",
    "plt.show()\n",
    "\n",
    "# Correlação entre variáveis numéricas\n",
    "plt.figure(figsize=(10, 6))\n",
    "sns.heatmap(df.corr(), annot=True, cmap='coolwarm', fmt='.2f')\n",
    "plt.title(\"Matriz de Correlação\")\n",
    "plt.show()\n",
    "\n",
    "# Mapa Geoespacial com Folium\n",
    "if 'latitude' in df.columns and 'longitude' in df.columns:\n",
    "    mapa = folium.Map(location=[df['latitude'].mean(), df['longitude'].mean()], zoom_start=10)\n",
    "    marker_cluster = MarkerCluster().add_to(mapa)\n",
    "    \n",
    "    for _, row in df.iterrows():\n",
    "        folium.Marker(\n",
    "            location=[row['latitude'], row['longitude']],\n",
    "            popup=f\"Preço: R${row['preco']:.2f}\"\n",
    "        ).add_to(marker_cluster)\n",
    "    \n",
    "    mapa.save(\"mapa_imoveis.html\")\n",
    "    print(\"Mapa salvo como mapa_imoveis.html\")\n",
    "\n",
    "# Boxplot de preços por estado\n",
    "if 'estado' in df.columns:\n",
    "    plt.figure(figsize=(12, 6))\n",
    "    sns.boxplot(x='estado', y='preco', data=df)\n",
    "    plt.xticks(rotation=45)\n",
    "    plt.title(\"Distribuição de Preços por Estado\")\n",
    "    plt.show()\n"
   ]
  }
 ],
 "metadata": {
  "kernelspec": {
   "display_name": "base",
   "language": "python",
   "name": "python3"
  },
  "language_info": {
   "codemirror_mode": {
    "name": "ipython",
    "version": 3
   },
   "file_extension": ".py",
   "mimetype": "text/x-python",
   "name": "python",
   "nbconvert_exporter": "python",
   "pygments_lexer": "ipython3",
   "version": "3.7.6"
  }
 },
 "nbformat": 4,
 "nbformat_minor": 2
}
